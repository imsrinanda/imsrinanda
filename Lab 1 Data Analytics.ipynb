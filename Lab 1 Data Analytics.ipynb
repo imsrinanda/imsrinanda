{
  "nbformat": 4,
  "nbformat_minor": 0,
  "metadata": {
    "colab": {
      "provenance": [],
      "authorship_tag": "ABX9TyPtptkIhavmE2FOBQANw+xL",
      "include_colab_link": true
    },
    "kernelspec": {
      "name": "python3",
      "display_name": "Python 3"
    },
    "language_info": {
      "name": "python"
    }
  },
  "cells": [
    {
      "cell_type": "markdown",
      "metadata": {
        "id": "view-in-github",
        "colab_type": "text"
      },
      "source": [
        "<a href=\"https://colab.research.google.com/github/imsrinanda/imsrinanda/blob/main/Lab%201%20Data%20Analytics.ipynb\" target=\"_parent\"><img src=\"https://colab.research.google.com/assets/colab-badge.svg\" alt=\"Open In Colab\"/></a>"
      ]
    },
    {
      "cell_type": "code",
      "execution_count": 92,
      "metadata": {
        "id": "cv5iwvjIs4uW"
      },
      "outputs": [],
      "source": [
        "#Question 1\n",
        "bank = open(\"/content/bank.csv\",\"r\")\n",
        "bank_dataset = bank.readlines()\n",
        "bank_list = []\n",
        "for line in bank_dataset:\n",
        "  ds = line.strip().split(\";\")\n",
        "  bank_list.append(ds)\n",
        "def view_dataset(bank_list):\n",
        "  for i in bank_list:\n",
        "    print(i)"
      ]
    },
    {
      "cell_type": "code",
      "source": [
        "# Question 2\n",
        "def view_header(bank_dataset):\n",
        "  header = bank_dataset[0].strip().split(\";\")\n",
        "  print(header)\n",
        "view_header(bank_dataset)"
      ],
      "metadata": {
        "colab": {
          "base_uri": "https://localhost:8080/"
        },
        "id": "fhZmStl-wKeY",
        "outputId": "2c55b454-a04e-441a-e710-d923caed205f"
      },
      "execution_count": 112,
      "outputs": [
        {
          "output_type": "stream",
          "name": "stdout",
          "text": [
            "['\"age\"', '\"job\"', '\"marital\"', '\"education\"', '\"default\"', '\"balance\"', '\"housing\"', '\"loan\"', '\"contact\"', '\"day\"', '\"month\"', '\"duration\"', '\"campaign\"', '\"pdays\"', '\"previous\"', '\"poutcome\"', '\"y\"']\n"
          ]
        }
      ]
    },
    {
      "cell_type": "code",
      "source": [
        "#Question 3\n",
        "def count_married_emp(bank_list):\n",
        "  detailed_sep = [i for i in bank_list]\n",
        "\n",
        "  a = 0\n",
        "  for i in detailed_sep:\n",
        "    for j in i:\n",
        "      if j == '\"married\"':\n",
        "        a += 1\n",
        "  print(a)"
      ],
      "metadata": {
        "id": "lWKbhodH80kl"
      },
      "execution_count": 94,
      "outputs": []
    },
    {
      "cell_type": "code",
      "source": [
        "menu = input('''\n",
        "Hello!\n",
        "Choose what you want to do.\n",
        "1) View the dataset.\n",
        "2) View the header.\n",
        "3) View the count of married people.\n",
        "4) Exit.\n",
        "\n",
        "Only enter 1 (or) 2 (or) 3 (or) 4.\n",
        "''')\n",
        "k = 0\n",
        "menu = int(menu)\n",
        "if menu == 1:\n",
        "  view_dataset(bank_list)\n",
        "elif menu == 2:\n",
        "  view_header(bank_dataset)\n",
        "elif menu == 3:\n",
        "  count_married_emp(bank_list)\n",
        "elif menu == 4:\n",
        "  print(\"Successfully exited!\")\n",
        "else:\n",
        "  print(\"Invalid option! Run the code again.\")"
      ],
      "metadata": {
        "id": "KPIW6Qfg9vZP"
      },
      "execution_count": null,
      "outputs": []
    },
    {
      "cell_type": "code",
      "source": [],
      "metadata": {
        "id": "mcKz0q1DETcf"
      },
      "execution_count": null,
      "outputs": []
    },
    {
      "cell_type": "code",
      "source": [],
      "metadata": {
        "id": "fLs1ilsrEJ_a"
      },
      "execution_count": null,
      "outputs": []
    }
  ]
}